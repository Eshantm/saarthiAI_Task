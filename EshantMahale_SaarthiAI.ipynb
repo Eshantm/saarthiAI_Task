{
  "nbformat": 4,
  "nbformat_minor": 0,
  "metadata": {
    "colab": {
      "name": "EshantMahale_SaarthiAI.ipynb",
      "provenance": [],
      "collapsed_sections": [],
      "authorship_tag": "ABX9TyOkzZJMAGSsHt6mWmegPaSw",
      "include_colab_link": true
    },
    "kernelspec": {
      "name": "python3",
      "display_name": "Python 3"
    },
    "language_info": {
      "name": "python"
    }
  },
  "cells": [
    {
      "cell_type": "markdown",
      "metadata": {
        "id": "view-in-github",
        "colab_type": "text"
      },
      "source": [
        "<a href=\"https://colab.research.google.com/github/Eshantm/saarthiAI_Task/blob/main/EshantMahale_SaarthiAI.ipynb\" target=\"_parent\"><img src=\"https://colab.research.google.com/assets/colab-badge.svg\" alt=\"Open In Colab\"/></a>"
      ]
    },
    {
      "cell_type": "code",
      "metadata": {
        "colab": {
          "base_uri": "https://localhost:8080/"
        },
        "id": "ucKtJUiBznis",
        "outputId": "9956222b-f02c-4e8d-908f-9fe7c7325497"
      },
      "source": [
        "#Question 5\n",
        "Entities_list=[\"kolkata\", \"delhi\"]\n",
        "utterance_list=[\"How far is <> from <>\", \"How is the weather in <>\"]\n",
        "out =[]\n",
        "for i in range(len(utterance_list)):\n",
        "  res = list(utterance_list[i].split())\n",
        "  n = res.count('<>')\n",
        "  for j in range(len(Entities_list)):\n",
        "    # if n>1:\n",
        "\n",
        "    # else:\n",
        "      pes = ' '.join([word.replace('<>',Entities_list[j]) for word in res])\n",
        "      out.append(pes)\n",
        "\n",
        "print(out)"
      ],
      "execution_count": null,
      "outputs": [
        {
          "output_type": "stream",
          "name": "stdout",
          "text": [
            "['How far is kolkata from kolkata', 'How far is delhi from delhi', 'How is the weather in kolkata', 'How is the weather in delhi']\n"
          ]
        }
      ]
    },
    {
      "cell_type": "code",
      "metadata": {
        "colab": {
          "base_uri": "https://localhost:8080/"
        },
        "id": "iUtT-rTfhR47",
        "outputId": "f8a4aa1c-07b2-4c91-c41d-3c3192adacca"
      },
      "source": [
        "#Question 6\n",
        "dict_list=[{'name': 'affirm', 'confidence': 0.9448149204254}, {'name': 'affirm', 'confidence': 0.944814920425415}, {'name': 'inform', 'confidence': 0.9842240810394287}, {'name': 'inform', 'confidence': 0.9842240810394287}]\n",
        "new_list=[]\n",
        "for i in range(len(dict_list)):\n",
        "  if dict_list[i] not in new_list:\n",
        "    new_list.append(dict_list[i])\n",
        "print(new_list)"
      ],
      "execution_count": null,
      "outputs": [
        {
          "output_type": "stream",
          "name": "stdout",
          "text": [
            "[{'name': 'affirm', 'confidence': 0.9448149204254}, {'name': 'affirm', 'confidence': 0.944814920425415}, {'name': 'inform', 'confidence': 0.9842240810394287}]\n"
          ]
        }
      ]
    },
    {
      "cell_type": "code",
      "metadata": {
        "colab": {
          "base_uri": "https://localhost:8080/",
          "height": 53
        },
        "id": "2MgU87FbqGKh",
        "outputId": "9497f99a-b8b9-4f4f-d3c3-df91fe79595b"
      },
      "source": [
        "#Question 7\n",
        "import re\n",
        "def checker(ps):\n",
        "  s=1\n",
        "  while s !=0:\n",
        "    if len(ps)<6 or len(ps)>12:\n",
        "      s=0\n",
        "      break\n",
        "    elif not re.search(\"[A-Z]\",ps):\n",
        "      s=0\n",
        "      break\n",
        "    elif not re.search(\"[a-z]\",ps):\n",
        "      s=0\n",
        "      break\n",
        "    elif not re.search(\"[0-9]\",ps):\n",
        "      s=0\n",
        "      break\n",
        "    elif not re.search(\"[!#$%&'()*+,-./:;<=>?@[\\]^_`{|}~]\",ps):\n",
        "      s=0\n",
        "      break\n",
        "    else:\n",
        "      s=1\n",
        "      break\n",
        "  \n",
        "  if s==0:\n",
        "    return \"Invalid Password\"\n",
        "  else:\n",
        "    return \"Valid Password\"\n",
        "  \n",
        "\n",
        "\n",
        "pwd = input(\"Enter the password: \")\n",
        "checker(pwd)\n"
      ],
      "execution_count": null,
      "outputs": [
        {
          "name": "stdout",
          "output_type": "stream",
          "text": [
            "Enter the password: Eshant@0729\n"
          ]
        },
        {
          "output_type": "execute_result",
          "data": {
            "application/vnd.google.colaboratory.intrinsic+json": {
              "type": "string"
            },
            "text/plain": [
              "'Valid Password'"
            ]
          },
          "metadata": {},
          "execution_count": 23
        }
      ]
    },
    {
      "cell_type": "code",
      "metadata": {
        "colab": {
          "base_uri": "https://localhost:8080/"
        },
        "id": "_j9iP-LEkSDg",
        "outputId": "7930cf22-5b62-4ff9-dce1-291da87797db"
      },
      "source": [
        "#Question 8\n",
        "d1 = {'a': 100, 'b': 200, 'c':300}\n",
        "d2 = {'a': 300, 'b': 200, 'd':400}\n",
        "output =d2\n",
        "for k,j in d1.items():\n",
        "  if k in d2:\n",
        "    output[k] = d2[k]+d1[k]\n",
        "  else:\n",
        "    output[k] =j\n",
        "print(output)"
      ],
      "execution_count": null,
      "outputs": [
        {
          "output_type": "stream",
          "name": "stdout",
          "text": [
            "{'a': 400, 'b': 400, 'd': 400, 'c': 300}\n"
          ]
        }
      ]
    },
    {
      "cell_type": "code",
      "metadata": {
        "id": "FVnanju2noXe"
      },
      "source": [
        ""
      ],
      "execution_count": null,
      "outputs": []
    }
  ]
}